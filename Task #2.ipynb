{
 "cells": [
  {
   "cell_type": "code",
   "execution_count": 1,
   "id": "d0d63e75",
   "metadata": {},
   "outputs": [],
   "source": [
    "#Importing the required libraries\n",
    "import cv2\n",
    "import pandas as pd"
   ]
  },
  {
   "cell_type": "code",
   "execution_count": 2,
   "id": "03fa2a50",
   "metadata": {},
   "outputs": [],
   "source": [
    "# reading image\n",
    "img_path = r\"C:/Users/DELL/Desktop/Internship/test1.jpg\" \n",
    "img = cv2.imread(img_path) "
   ]
  },
  {
   "cell_type": "code",
   "execution_count": 3,
   "id": "d03170b8",
   "metadata": {},
   "outputs": [],
   "source": [
    "X = Y = r = g = b = 0\n",
    "Clicked = False\n",
    "\n",
    "myArr = ['Color', 'ColorName', 'Hex', 'R', 'G', 'B']\n",
    "csv = pd.read_csv(\"C:/Users/DELL/Desktop/Internship/colors.csv\", names=myArr)"
   ]
  },
  {
   "cell_type": "code",
   "execution_count": null,
   "id": "d3aced07",
   "metadata": {},
   "outputs": [],
   "source": [
    "def draw(event, x, y, flag, param):\n",
    "    if event == cv2.EVENT_LBUTTONUP:\n",
    "        global X, Y, r, g, b, Clicked\n",
    "        Clicked = True\n",
    "        X = x\n",
    "        Y = y\n",
    "        b, g, r = img[y, x]\n",
    "        b = int(b)\n",
    "        r = int(r)\n",
    "        g = int(g)\n",
    "\n",
    "cv2.namedWindow('ColorDetector')\n",
    "cv2.setMouseCallback('ColorDetector', draw)\n",
    "\n",
    "\n",
    "def GetColorName(R, G, B):\n",
    "    min = 1000000\n",
    "    for i in range(len(csv)):\n",
    "        d = abs(R - int(csv.loc[i, \"R\"])) + abs(G - int(csv.loc[i, \"G\"])) + abs(B - int(csv.loc[i, \"B\"]))\n",
    "\n",
    "        if d <= min:\n",
    "            min = d\n",
    "            cname = csv.loc[i, 'ColorName']\n",
    "\n",
    "    return cname\n",
    "\n",
    "while True:\n",
    "    cv2.imshow('ColorDetector', img)\n",
    "\n",
    "    if Clicked:\n",
    "        cv2.rectangle(img, (0, 20), (600, 60), (b, g, r),  -1)\n",
    "        text = GetColorName(r, g, b) + ' R = ' + str(r) + \\\n",
    "            ' G = ' + str(g) + ' B = ' + str(b)\n",
    "\n",
    "        if r + g + b >= 500:\n",
    "            cv2.putText(img, text, (50, 50), 2, 0.8, (0, 0, 0), 2, cv2.LINE_AA)\n",
    "        else:\n",
    "            cv2.putText(img, text, (50, 50), 2, 0.8,\n",
    "                        (255, 255, 255), 2, cv2.LINE_AA)\n",
    "    Clicked = False\n",
    "    if cv2.waitKey(20) & 0xFF == 27:\n",
    "        break\n",
    "\n",
    "cv2.destroyAllWindows()"
   ]
  },
  {
   "cell_type": "code",
   "execution_count": null,
   "id": "b795978e",
   "metadata": {},
   "outputs": [],
   "source": []
  }
 ],
 "metadata": {
  "kernelspec": {
   "display_name": "Python 3 (ipykernel)",
   "language": "python",
   "name": "python3"
  },
  "language_info": {
   "codemirror_mode": {
    "name": "ipython",
    "version": 3
   },
   "file_extension": ".py",
   "mimetype": "text/x-python",
   "name": "python",
   "nbconvert_exporter": "python",
   "pygments_lexer": "ipython3",
   "version": "3.11.5"
  }
 },
 "nbformat": 4,
 "nbformat_minor": 5
}
