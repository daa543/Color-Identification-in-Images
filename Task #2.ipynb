{
 "cells": [
  {
   "cell_type": "code",
   "execution_count": 10,
   "id": "d0d63e75",
   "metadata": {},
   "outputs": [],
   "source": [
    "#Importing the required libraries\n",
    "import cv2\n",
    "import pandas as pd"
   ]
  },
  {
   "cell_type": "code",
   "execution_count": 14,
   "id": "03fa2a50",
   "metadata": {},
   "outputs": [],
   "source": [
    "# reading image\n",
    "img_path = r\"C:/Users/DELL/Desktop/Internship/test1.jpg\" #test case number 1\n",
    "#img_path = r\"C:/Users/DELL/Desktop/Internship/test2.jpg\"  #test case number 2\n",
    "#img_path = r\"C:/Users/DELL/Desktop/Internship/test3.jpg\"   #test case number 3\n",
    "img = cv2.imread(img_path) "
   ]
  },
  {
   "cell_type": "code",
   "execution_count": 15,
   "id": "d03170b8",
   "metadata": {},
   "outputs": [],
   "source": [
    "# declare some global variables\n",
    "X = Y = r = g = b = 0\n",
    "Clicked = False\n",
    "\n",
    "#Reading the .csv file(Containing all the colors,hex,RGB components) and naming the columns\n",
    "\n",
    "myArr = ['Color', 'ColorName', 'Hex', 'R', 'G', 'B']\n",
    "csv = pd.read_csv(\"C:/Users/DELL/Desktop/Internship/colors.csv\", names=myArr)"
   ]
  },
  {
   "cell_type": "code",
   "execution_count": 16,
   "id": "d3aced07",
   "metadata": {},
   "outputs": [
    {
     "ename": "KeyboardInterrupt",
     "evalue": "",
     "output_type": "error",
     "traceback": [
      "\u001b[1;31m---------------------------------------------------------------------------\u001b[0m",
      "\u001b[1;31mKeyboardInterrupt\u001b[0m                         Traceback (most recent call last)",
      "Cell \u001b[1;32mIn[16], line 46\u001b[0m\n\u001b[0;32m     43\u001b[0m             cv2\u001b[38;5;241m.\u001b[39mputText(img, text, (\u001b[38;5;241m50\u001b[39m, \u001b[38;5;241m50\u001b[39m), \u001b[38;5;241m2\u001b[39m, \u001b[38;5;241m0.8\u001b[39m,\n\u001b[0;32m     44\u001b[0m                         (\u001b[38;5;241m255\u001b[39m, \u001b[38;5;241m255\u001b[39m, \u001b[38;5;241m255\u001b[39m), \u001b[38;5;241m2\u001b[39m, cv2\u001b[38;5;241m.\u001b[39mLINE_AA)\n\u001b[0;32m     45\u001b[0m     Clicked \u001b[38;5;241m=\u001b[39m \u001b[38;5;28;01mFalse\u001b[39;00m\n\u001b[1;32m---> 46\u001b[0m     \u001b[38;5;28;01mif\u001b[39;00m cv2\u001b[38;5;241m.\u001b[39mwaitKey(\u001b[38;5;241m20\u001b[39m) \u001b[38;5;241m&\u001b[39m \u001b[38;5;241m0xFF\u001b[39m \u001b[38;5;241m==\u001b[39m \u001b[38;5;241m27\u001b[39m:\n\u001b[0;32m     47\u001b[0m         \u001b[38;5;28;01mbreak\u001b[39;00m\n\u001b[0;32m     49\u001b[0m cv2\u001b[38;5;241m.\u001b[39mdestroyAllWindows()\n",
      "\u001b[1;31mKeyboardInterrupt\u001b[0m: "
     ]
    }
   ],
   "source": [
    "def draw(event, x, y, flag, param):\n",
    "    if event == cv2.EVENT_LBUTTONUP:\n",
    "        global X, Y, r, g, b, Clicked\n",
    "        Clicked = True\n",
    "        X = x\n",
    "        Y = y\n",
    "        b, g, r = img[y, x]\n",
    "        b = int(b)\n",
    "        r = int(r)\n",
    "        g = int(g)\n",
    "\n",
    "#Creating the window for image\n",
    "cv2.namedWindow('ColorDetector')\n",
    "#Binding the draw_function to the mouse pointer\n",
    "cv2.setMouseCallback('ColorDetector', draw)\n",
    "\n",
    "#Function to compare the RGB values on (x,y) coordinates of the image\n",
    "#Returning the color name\n",
    "def GetColorName(R, G, B):\n",
    "    min = 1000000\n",
    "    for i in range(len(csv)):\n",
    "        d = abs(R - int(csv.loc[i, \"R\"])) + abs(G -\n",
    "                                                int(csv.loc[i, \"G\"])) + abs(B - int(csv.loc[i, \"B\"]))\n",
    "\n",
    "        if d <= min:\n",
    "            min = d\n",
    "            cname = csv.loc[i, 'ColorName']\n",
    "\n",
    "    return cname\n",
    "\n",
    "#Binding the draw_function to the mouse pointer\n",
    "while True:\n",
    "    cv2.imshow('ColorDetector', img)\n",
    "\n",
    "    if Clicked:\n",
    "        cv2.rectangle(img, (0, 20), (600, 60), (b, g, r),  -1)\n",
    "        text = GetColorName(r, g, b) + ' R = ' + str(r) + \\\n",
    "            ' G = ' + str(g) + ' B = ' + str(b)\n",
    "\n",
    "        if r + g + b >= 500:\n",
    "            cv2.putText(img, text, (50, 50), 2, 0.8, (0, 0, 0), 2, cv2.LINE_AA)\n",
    "        else:\n",
    "            cv2.putText(img, text, (50, 50), 2, 0.8,\n",
    "                        (255, 255, 255), 2, cv2.LINE_AA)\n",
    "    Clicked = False\n",
    "    if cv2.waitKey(20) & 0xFF == 27:\n",
    "        break\n",
    "\n",
    "cv2.destroyAllWindows()"
   ]
  },
  {
   "cell_type": "code",
   "execution_count": null,
   "id": "b795978e",
   "metadata": {},
   "outputs": [],
   "source": []
  }
 ],
 "metadata": {
  "kernelspec": {
   "display_name": "Python 3 (ipykernel)",
   "language": "python",
   "name": "python3"
  },
  "language_info": {
   "codemirror_mode": {
    "name": "ipython",
    "version": 3
   },
   "file_extension": ".py",
   "mimetype": "text/x-python",
   "name": "python",
   "nbconvert_exporter": "python",
   "pygments_lexer": "ipython3",
   "version": "3.11.5"
  }
 },
 "nbformat": 4,
 "nbformat_minor": 5
}
